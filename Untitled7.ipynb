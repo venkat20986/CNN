{
  "nbformat": 4,
  "nbformat_minor": 0,
  "metadata": {
    "colab": {
      "provenance": []
    },
    "kernelspec": {
      "name": "python3",
      "display_name": "Python 3"
    },
    "language_info": {
      "name": "python"
    }
  },
  "cells": [
    {
      "cell_type": "code",
      "execution_count": 1,
      "metadata": {
        "id": "86UjkZEXkUR1"
      },
      "outputs": [],
      "source": [
        "import numpy as np\n",
        "import tensorflow as tf\n",
        "from tensorflow.keras.models import Sequential\n",
        "from tensorflow.keras.layers import LSTM, Dense"
      ]
    },
    {
      "cell_type": "code",
      "source": [
        "# Generate random sequences and labels\n",
        "num_samples = 100\n",
        "sequence_length = 10\n",
        "X = np.random.randint(0, 100, size=(num_samples, sequence_length))  # Random sequences of integers\n",
        "\n",
        "# Model configuration\n",
        "lstm_units = 64\n",
        "\n",
        "# Define LSTM model\n",
        "model = Sequential()\n",
        "model.add(LSTM(units=lstm_units, input_shape=(sequence_length, 1)))\n",
        "model.add(Dense(units=1, activation='sigmoid'))\n",
        "\n",
        "# Compile model\n",
        "model.compile(optimizer='adam', loss='binary_crossentropy', metrics=['accuracy'])\n",
        "\n",
        "y = np.random.randint(0, 2, size=(num_samples,))\n",
        "\n",
        "# Train model\n",
        "model.fit(np.expand_dims(X, axis=-1), y, epochs=5, batch_size=32, validation_split=0.2)\n",
        "\n",
        "# Evaluate model\n",
        "loss, accuracy = model.evaluate(np.expand_dims(X, axis=-1), y)\n",
        "print(\"Test Loss:\", loss)\n",
        "print(\"Test Accuracy:\", accuracy)\n",
        "\n",
        "# Calculate the sum of the sequence\n",
        "sequence_sum = np.sum(X)\n",
        "\n",
        "# Predict the class label using the trained model\n",
        "predicted_labels = model.predict(np.expand_dims(X, axis=-1))\n",
        "\n",
        "# Classify each sequence based on the last digit of the sum\n",
        "predicted_classes = [\"even\" if sequence_sum % 10 % 2 == 0 else \"odd\" for sequence_sum in np.sum(X, axis=1)]\n",
        "\n",
        "# Print the random sequences, their sum, and the predicted class labels\n",
        "for i in range(len(X)):\n",
        "  sequence_sum = np.sum(X[i])\n",
        "print(\"Random Sequence:\", X[i])\n",
        "print(\"Sequence Sum:\", sequence_sum)\n",
        "print(\"Predicted Class Label (Based on Sum):\", predicted_classes[i])\n",
        "print()"
      ],
      "metadata": {
        "colab": {
          "base_uri": "https://localhost:8080/"
        },
        "id": "FTWfVyvMkjpe",
        "outputId": "2c675d17-7ec9-4031-a0fb-96ed70804c0b"
      },
      "execution_count": 5,
      "outputs": [
        {
          "output_type": "stream",
          "name": "stdout",
          "text": [
            "Epoch 1/5\n"
          ]
        },
        {
          "output_type": "stream",
          "name": "stderr",
          "text": [
            "/usr/local/lib/python3.10/dist-packages/keras/src/layers/rnn/rnn.py:204: UserWarning: Do not pass an `input_shape`/`input_dim` argument to a layer. When using Sequential models, prefer using an `Input(shape)` object as the first layer in the model instead.\n",
            "  super().__init__(**kwargs)\n"
          ]
        },
        {
          "output_type": "stream",
          "name": "stdout",
          "text": [
            "\u001b[1m3/3\u001b[0m \u001b[32m━━━━━━━━━━━━━━━━━━━━\u001b[0m\u001b[37m\u001b[0m \u001b[1m2s\u001b[0m 174ms/step - accuracy: 0.4320 - loss: 0.7261 - val_accuracy: 0.6500 - val_loss: 0.6782\n",
            "Epoch 2/5\n",
            "\u001b[1m3/3\u001b[0m \u001b[32m━━━━━━━━━━━━━━━━━━━━\u001b[0m\u001b[37m\u001b[0m \u001b[1m0s\u001b[0m 16ms/step - accuracy: 0.4977 - loss: 0.6958 - val_accuracy: 0.5500 - val_loss: 0.6743\n",
            "Epoch 3/5\n",
            "\u001b[1m3/3\u001b[0m \u001b[32m━━━━━━━━━━━━━━━━━━━━\u001b[0m\u001b[37m\u001b[0m \u001b[1m0s\u001b[0m 16ms/step - accuracy: 0.5523 - loss: 0.6922 - val_accuracy: 0.5500 - val_loss: 0.6735\n",
            "Epoch 4/5\n",
            "\u001b[1m3/3\u001b[0m \u001b[32m━━━━━━━━━━━━━━━━━━━━\u001b[0m\u001b[37m\u001b[0m \u001b[1m0s\u001b[0m 17ms/step - accuracy: 0.5344 - loss: 0.6903 - val_accuracy: 0.5500 - val_loss: 0.6772\n",
            "Epoch 5/5\n",
            "\u001b[1m3/3\u001b[0m \u001b[32m━━━━━━━━━━━━━━━━━━━━\u001b[0m\u001b[37m\u001b[0m \u001b[1m0s\u001b[0m 17ms/step - accuracy: 0.4953 - loss: 0.7005 - val_accuracy: 0.5500 - val_loss: 0.6826\n",
            "\u001b[1m4/4\u001b[0m \u001b[32m━━━━━━━━━━━━━━━━━━━━\u001b[0m\u001b[37m\u001b[0m \u001b[1m0s\u001b[0m 3ms/step - accuracy: 0.5525 - loss: 0.6826 \n",
            "Test Loss: 0.6863583326339722\n",
            "Test Accuracy: 0.5400000214576721\n",
            "\u001b[1m4/4\u001b[0m \u001b[32m━━━━━━━━━━━━━━━━━━━━\u001b[0m\u001b[37m\u001b[0m \u001b[1m0s\u001b[0m 61ms/step\n",
            "Random Sequence: [80  7 68 94 50  2 49  6 78 72]\n",
            "Sequence Sum: 506\n",
            "Predicted Class Label (Based on Sum): even\n",
            "\n"
          ]
        }
      ]
    }
  ]
}